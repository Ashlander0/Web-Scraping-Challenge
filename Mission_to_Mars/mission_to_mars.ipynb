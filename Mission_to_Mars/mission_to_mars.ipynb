{
 "metadata": {
  "language_info": {
   "codemirror_mode": {
    "name": "ipython",
    "version": 3
   },
   "file_extension": ".py",
   "mimetype": "text/x-python",
   "name": "python",
   "nbconvert_exporter": "python",
   "pygments_lexer": "ipython3",
   "version": "3.6.10-final"
  },
  "orig_nbformat": 2,
  "kernelspec": {
   "name": "python3",
   "display_name": "Python 3.6.10 64-bit ('PythonData': conda)",
   "metadata": {
    "interpreter": {
     "hash": "5057b7eef5ef6178ba0df79a20bb385a33fde4771b1ac03d2b482b12ce503196"
    }
   }
  }
 },
 "nbformat": 4,
 "nbformat_minor": 2,
 "cells": [
  {
   "cell_type": "code",
   "execution_count": 2,
   "metadata": {
    "tags": []
   },
   "outputs": [],
   "source": [
    "from bs4 import BeautifulSoup as bs\n",
    "import pandas as pd\n",
    "import requests\n",
    "from splinter import Browser\n",
    "import pymongo\n",
    "\n",
    "browser = Browser(\"chrome\", executable_path=\"chromedriver\", headless=True)\n",
    "\n",
    "url = ('https://mars.nasa.gov/news')\n",
    "url2 = ('https://www.jpl.nasa.gov/spaceimages/?search=&category=Mars')\n",
    "url3 = ('https://space-facts.com/mars')\n",
    "browser.visit(url)\n",
    "\n",
    "browser.is_element_present_by_css(\"ul.item_list li.slide\", wait_time=1)\n",
    "\n",
    "html = browser.html\n",
    "soup = bs(html, 'html.parser')"
   ]
  },
  {
   "cell_type": "code",
   "execution_count": 4,
   "metadata": {
    "tags": []
   },
   "outputs": [
    {
     "output_type": "stream",
     "name": "stdout",
     "text": [
      "NASA Moves Forward With Campaign to Return Mars Samples to Earth\n\n\n3 Things We've Learned From NASA's Mars InSight \n\n\nFrom JPL's Mailroom to Mars and Beyond\n\n\n5 Hidden Gems Are Riding Aboard NASA's Perseverance Rover\n\n\nMOXIE Could Help Future Rockets Launch Off Mars\n\n\nHear Audio From NASA's Perseverance As It Travels Through Deep Space\n\n\nMars Is Getting a New Robotic Meteorologist\n\n\nHeat and Dust Help Launch Martian Water Into Space, Scientists Find\n\n\nNASA's Curiosity Takes Selfie With 'Mary Anning' on the Red Planet\n\n\nIndependent Review Indicates NASA Prepared for Mars Sample Return Campaign\n\n\nNASA's Perseverance Rover 100 Days Out\n\n\nNASA's Perseverance Rover Is Midway to Mars \n\n\nSensors on Mars 2020 Spacecraft Answer Long-Distance Call From Earth\n\n\nNASA's Perseverance Rover Bringing 3D-Printed Metal Parts to Mars\n\n\nNASA InSight's 'Mole' Is Out of Sight\n\n\nNASA's Perseverance Rover Will Peer Beneath Mars' Surface \n\n\nAI Is Helping Scientists Discover Fresh Craters on Mars\n\n\nNASA's New Mars Rover Is Ready for Space Lasers\n\n\nNASA's New Mars Rover Will Use X-Rays to Hunt Fossils\n\n\nMy Culture, My Voice\n\n\nNASA Readies Perseverance Mars Rover's Earthly Twin \n\n\nNASA Engineers Checking InSight's Weather Sensors\n\n\nFollow NASA's Perseverance Rover in Real Time on Its Way to Mars\n\n\nNASA Establishes Board to Initially Review Mars Sample Return Plans\n\n\nNASA's Ingenuity Mars Helicopter Recharges Its Batteries in Flight\n\n\nCelebrate Mars Reconnaissance Orbiter's Views From Above\n\n\nNASA's MAVEN Observes Martian Night Sky Pulsing in Ultraviolet Light\n\n\n8 Martian Postcards to Celebrate Curiosity's Landing Anniversary\n\n\nNASA, ULA Launch Mars 2020 Perseverance Rover Mission to Red Planet\n\n\nNASA's Perseverance Rover Will Carry First Spacesuit Materials to Mars\n\n\nA New Video Captures the Science of NASA's Perseverance Mars Rover\n\n\nNASA Invites Public to Share Excitement of Mars 2020 Perseverance Rover Launch\n\n\nNASA's Mars Perseverance Rover Passes Flight Readiness Review\n\n\nNASA to Broadcast Mars 2020 Perseverance Launch, Prelaunch Activities\n\n\n6 Things to Know About NASA's Ingenuity Mars Helicopter\n\n\nJoin NASA for the Launch of the Mars 2020 Perseverance Rover\n\n\nNASA's Perseverance Rover Attached to Atlas V Rocket\n\n\n7 Things to Know About the Mars 2020 Perseverance Rover Mission\n\n\nNASA's InSight Flexes Its Arm While Its 'Mole' Hits Pause\n\n\nCuriosity Mars Rover's Summer Road Trip Has Begun\n\n\n"
     ]
    }
   ],
   "source": [
    "# Get titles of articles\n",
    "titles = soup.article.find_all('div', class_='content_title')\n",
    "\n",
    "# Get paragraghs of articles\n",
    "paras = soup.article.find_all('li', class_='slide')\n",
    "\n",
    "for title in titles:\n",
    "   print(f'{title.text}\\n\\n')"
   ]
  },
  {
   "cell_type": "code",
   "execution_count": 6,
   "metadata": {},
   "outputs": [
    {
     "output_type": "stream",
     "name": "stdout",
     "text": [
      "https://www.jpl.nasa.gov/spaceimages/images/wallpaper/PIA19808-1920x1200.jpg\n"
     ]
    }
   ],
   "source": [
    "browser.visit(url2)\n",
    "\n",
    "browser.is_element_present_by_css(\"article\", wait_time=1)\n",
    "\n",
    "html = browser.html\n",
    "soup = bs(html, 'html.parser')\n",
    "\n",
    "# Get directory to image\n",
    "featImg = soup.select_one('article')['style']\n",
    "featImg = featImg.split('\\'', 2)[1]\n",
    "\n",
    "# Create full url\n",
    "featImg = f'https://www.jpl.nasa.gov{featImg}'\n",
    "print(featImg)"
   ]
  },
  {
   "cell_type": "code",
   "execution_count": 54,
   "metadata": {},
   "outputs": [
    {
     "output_type": "execute_result",
     "data": {
      "text/plain": [
       "'<table border=\"1\" class=\"dataframe\">\\n  <thead>\\n    <tr style=\"text-align: right;\">\\n      <th></th>\\n      <th>0</th>\\n      <th>1</th>\\n    </tr>\\n  </thead>\\n  <tbody>\\n    <tr>\\n      <th>0</th>\\n      <td>Equatorial Diameter:</td>\\n      <td>6,792 km</td>\\n    </tr>\\n    <tr>\\n      <th>1</th>\\n      <td>Polar Diameter:</td>\\n      <td>6,752 km</td>\\n    </tr>\\n    <tr>\\n      <th>2</th>\\n      <td>Mass:</td>\\n      <td>6.39 × 10^23 kg (0.11 Earths)</td>\\n    </tr>\\n    <tr>\\n      <th>3</th>\\n      <td>Moons:</td>\\n      <td>2 (Phobos &amp; Deimos)</td>\\n    </tr>\\n    <tr>\\n      <th>4</th>\\n      <td>Orbit Distance:</td>\\n      <td>227,943,824 km (1.38 AU)</td>\\n    </tr>\\n    <tr>\\n      <th>5</th>\\n      <td>Orbit Period:</td>\\n      <td>687 days (1.9 years)</td>\\n    </tr>\\n    <tr>\\n      <th>6</th>\\n      <td>Surface Temperature:</td>\\n      <td>-87 to -5 °C</td>\\n    </tr>\\n    <tr>\\n      <th>7</th>\\n      <td>First Record:</td>\\n      <td>2nd millennium BC</td>\\n    </tr>\\n    <tr>\\n      <th>8</th>\\n      <td>Recorded By:</td>\\n      <td>Egyptian astronomers</td>\\n    </tr>\\n  </tbody>\\n</table>'"
      ]
     },
     "metadata": {},
     "execution_count": 54
    }
   ],
   "source": [
    "marsTable = pd.DataFrame()\n",
    "\n",
    "browser.visit(url3)\n",
    "\n",
    "browser.is_element_present_by_id(\"article\", wait_time=1)\n",
    "\n",
    "html = browser.html\n",
    "soup = bs(html, 'html.parser')\n",
    "\n",
    "# Get each column of data table\n",
    "#col1 = soup.table.find_all('td',class_='column-1')\n",
    "#col2 = soup.table.find_all('td',class_='column-2')\n",
    "\n",
    "# Read tables from url\n",
    "marsTable = pd.read_html(url3)\n",
    "# select mars table\n",
    "mT_df = marsTable[0]\n",
    "\n",
    "# Output to html code\n",
    "mT_df.to_html()"
   ]
  },
  {
   "cell_type": "code",
   "execution_count": null,
   "metadata": {},
   "outputs": [],
   "source": []
  }
 ]
}